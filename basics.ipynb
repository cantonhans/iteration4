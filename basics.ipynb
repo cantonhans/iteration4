{
 "cells": [
  {
   "cell_type": "code",
   "execution_count": 1,
   "id": "0f0b21b0",
   "metadata": {},
   "outputs": [
    {
     "name": "stderr",
     "output_type": "stream",
     "text": [
      "WARNING: An illegal reflective access operation has occurred\n",
      "WARNING: Illegal reflective access by org.apache.spark.unsafe.Platform (file:/home/ubuntu/spark-3.2.1-bin-hadoop2.7/jars/spark-unsafe_2.12-3.2.1.jar) to constructor java.nio.DirectByteBuffer(long,int)\n",
      "WARNING: Please consider reporting this to the maintainers of org.apache.spark.unsafe.Platform\n",
      "WARNING: Use --illegal-access=warn to enable warnings of further illegal reflective access operations\n",
      "WARNING: All illegal access operations will be denied in a future release\n",
      "Using Spark's default log4j profile: org/apache/spark/log4j-defaults.properties\n",
      "Setting default log level to \"WARN\".\n",
      "To adjust logging level use sc.setLogLevel(newLevel). For SparkR, use setLogLevel(newLevel).\n",
      "23/10/18 13:28:00 WARN NativeCodeLoader: Unable to load native-hadoop library for your platform... using builtin-java classes where applicable\n"
     ]
    }
   ],
   "source": [
    "# Must be included at the beginning of each new notebook. Remember to change the app name.\n",
    "import findspark\n",
    "findspark.init('/home/ubuntu/spark-3.2.1-bin-hadoop2.7')\n",
    "import pyspark\n",
    "from pyspark.sql import SparkSession\n",
    "spark = SparkSession.builder.appName('basics').getOrCreate()"
   ]
  },
  {
   "cell_type": "code",
   "execution_count": 2,
   "id": "231175a0",
   "metadata": {
    "scrolled": false
   },
   "outputs": [
    {
     "name": "stderr",
     "output_type": "stream",
     "text": [
      "\r",
      "[Stage 0:>                                                          (0 + 1) / 1]\r",
      "\r",
      "                                                                                \r"
     ]
    },
    {
     "name": "stdout",
     "output_type": "stream",
     "text": [
      "root\n",
      " |-- gender: string (nullable = true)\n",
      " |-- race/ethnicity: string (nullable = true)\n",
      " |-- parental level of education: string (nullable = true)\n",
      " |-- lunch: string (nullable = true)\n",
      " |-- test preparation course: string (nullable = true)\n",
      " |-- math score: integer (nullable = true)\n",
      " |-- reading: integer (nullable = true)\n",
      " |-- writing score: integer (nullable = true)\n",
      "\n"
     ]
    }
   ],
   "source": [
    "# Schemas can only be inferred for CSV files. \n",
    "df = spark.read.csv('StudentsPerformance.csv', inferSchema=True, header=True)\n",
    "df.printSchema()"
   ]
  },
  {
   "cell_type": "markdown",
   "id": "220f5c65",
   "metadata": {},
   "source": [
    "# Data Exploration"
   ]
  },
  {
   "cell_type": "code",
   "execution_count": 90,
   "id": "c591d024",
   "metadata": {},
   "outputs": [
    {
     "name": "stdout",
     "output_type": "stream",
     "text": [
      "+------+--------------+---------------------------+------------+-----------------------+----------+-------+-------------+\n",
      "|gender|race/ethnicity|parental level of education|       lunch|test preparation course|math score|reading|writing score|\n",
      "+------+--------------+---------------------------+------------+-----------------------+----------+-------+-------------+\n",
      "|female|       group B|          bachelor's degree|    standard|                   none|        72|     72|           74|\n",
      "|female|       group C|               some college|    standard|              completed|        69|     90|           88|\n",
      "|female|       group B|            master's degree|    standard|                   none|        90|     95|           93|\n",
      "|  male|       group A|         associate's degree|free/reduced|                   none|        47|     57|           44|\n",
      "|  male|       group C|               some college|    standard|                   none|        76|     78|           75|\n",
      "|female|       group B|         associate's degree|    standard|                   none|        71|     83|           78|\n",
      "|female|       group B|               some college|    standard|              completed|        88|     95|           92|\n",
      "|  male|       group B|               some college|free/reduced|                   none|        40|     43|           39|\n",
      "|  male|       group D|                high school|free/reduced|              completed|        64|     64|           67|\n",
      "|female|       group B|                high school|free/reduced|                   none|        38|     60|           50|\n",
      "|  male|       group C|         associate's degree|    standard|                   none|        58|     54|           52|\n",
      "|  male|       group D|         associate's degree|    standard|                   none|        40|     52|           43|\n",
      "|female|       group B|                high school|    standard|                   none|        65|     81|           73|\n",
      "|  male|       group A|               some college|    standard|              completed|        78|     72|           70|\n",
      "|female|       group A|            master's degree|    standard|                   none|        50|     53|           58|\n",
      "|female|       group C|           some high school|    standard|                   none|        69|     75|           78|\n",
      "|  male|       group C|                high school|    standard|                   none|        88|     89|           86|\n",
      "|female|       group B|           some high school|free/reduced|                   none|        18|     32|           28|\n",
      "|  male|       group C|            master's degree|free/reduced|              completed|        46|     42|           46|\n",
      "|female|       group C|         associate's degree|free/reduced|                   none|        54|     58|           61|\n",
      "+------+--------------+---------------------------+------------+-----------------------+----------+-------+-------------+\n",
      "only showing top 20 rows\n",
      "\n"
     ]
    },
    {
     "data": {
      "text/plain": [
       "['gender',\n",
       " 'race/ethnicity',\n",
       " 'parental level of education',\n",
       " 'lunch',\n",
       " 'test preparation course',\n",
       " 'math score',\n",
       " 'reading',\n",
       " 'writing score']"
      ]
     },
     "execution_count": 90,
     "metadata": {},
     "output_type": "execute_result"
    }
   ],
   "source": [
    "# The show method allows you visualise DataFrames. We can see that there are two columns. \n",
    "df.show()\n",
    "\n",
    "# You could also try this. \n",
    "df.columns"
   ]
  },
  {
   "cell_type": "code",
   "execution_count": 39,
   "id": "1e13ba32",
   "metadata": {
    "scrolled": false
   },
   "outputs": [
    {
     "name": "stdout",
     "output_type": "stream",
     "text": [
      "+-------+------+--------------+---------------------------+------------+-----------------------+------------------+------------------+-----------------+\n",
      "|summary|gender|race/ethnicity|parental level of education|       lunch|test preparation course|        math score|     reading score|    writing score|\n",
      "+-------+------+--------------+---------------------------+------------+-----------------------+------------------+------------------+-----------------+\n",
      "|  count|  1000|          1000|                       1000|        1000|                   1000|              1000|              1000|             1000|\n",
      "|   mean|  null|          null|                       null|        null|                   null|            66.089|            69.169|           68.054|\n",
      "| stddev|  null|          null|                       null|        null|                   null|15.163080096009454|14.600191937252223|15.19565701086966|\n",
      "|    min|female|       group A|         associate's degree|free/reduced|              completed|                 0|                17|               10|\n",
      "|    max|  male|       group E|           some high school|    standard|                   none|               100|               100|              100|\n",
      "+-------+------+--------------+---------------------------+------------+-----------------------+------------------+------------------+-----------------+\n",
      "\n"
     ]
    }
   ],
   "source": [
    "# We can use the describe method get some general statistics on our data too. Remember to show the DataFrame!\n",
    "# But what about data type?\n",
    "df.describe().show()"
   ]
  },
  {
   "cell_type": "code",
   "execution_count": 40,
   "id": "5cbc0e81",
   "metadata": {},
   "outputs": [
    {
     "name": "stdout",
     "output_type": "stream",
     "text": [
      "root\n",
      " |-- gender: string (nullable = true)\n",
      " |-- race/ethnicity: string (nullable = true)\n",
      " |-- parental level of education: string (nullable = true)\n",
      " |-- lunch: string (nullable = true)\n",
      " |-- test preparation course: string (nullable = true)\n",
      " |-- math score: integer (nullable = true)\n",
      " |-- reading score: integer (nullable = true)\n",
      " |-- writing score: integer (nullable = true)\n",
      "\n"
     ]
    }
   ],
   "source": [
    "# For type, we can use print schema. \n",
    "# But wait! What if you want to change the format of the data? Maybe change age to an integer instead of long?\n",
    "df.printSchema()"
   ]
  },
  {
   "cell_type": "markdown",
   "id": "4a1a3628",
   "metadata": {},
   "source": [
    "# Data Manipulation"
   ]
  },
  {
   "cell_type": "code",
   "execution_count": 41,
   "id": "56010170",
   "metadata": {},
   "outputs": [],
   "source": [
    "# Let's import in the relevant types.\n",
    "from pyspark.sql.types import (StructField,StringType,IntegerType,StructType, LongType)"
   ]
  },
  {
   "cell_type": "code",
   "execution_count": 46,
   "id": "7ad88c2c",
   "metadata": {},
   "outputs": [],
   "source": [
    "# Then create a variable with the correct structure.\n",
    "data_schema = [\n",
    "              StructField('gender',StringType(),True),\n",
    "              StructField('race/ethnicity',StringType(),True),\n",
    "              StructField('parental level of education',StringType(),True),\n",
    "              StructField('lunch',StringType(),True),\n",
    "              StructField('test preparation course',StringType(),True),\n",
    "              StructField('math score',IntegerType(),True),\n",
    "              StructField('reading score',IntegerType(),True),\n",
    "              StructField('writing score',LongType(),True)]\n",
    "\n",
    "final_struct = StructType(fields=data_schema)"
   ]
  },
  {
   "cell_type": "code",
   "execution_count": 158,
   "id": "d45f3090",
   "metadata": {},
   "outputs": [
    {
     "name": "stdout",
     "output_type": "stream",
     "text": [
      "root\n",
      " |-- gender: string (nullable = true)\n",
      " |-- race/ethnicity: string (nullable = true)\n",
      " |-- parental level of education: string (nullable = true)\n",
      " |-- lunch: string (nullable = true)\n",
      " |-- test preparation course: string (nullable = true)\n",
      " |-- math score: integer (nullable = true)\n",
      " |-- reading score: integer (nullable = true)\n",
      " |-- writing score: integer (nullable = true)\n",
      "\n"
     ]
    }
   ],
   "source": [
    "# And now we can read in the data using that schema. If we print the schema, we can see that age is now an integer. \n",
    "df = spark.read.csv('StudentsPerformance.csv', schema=final_struct)\n",
    "\n",
    "df.printSchema()"
   ]
  },
  {
   "cell_type": "code",
   "execution_count": 93,
   "id": "caba7dd3",
   "metadata": {},
   "outputs": [
    {
     "name": "stdout",
     "output_type": "stream",
     "text": [
      "root\n",
      " |-- gender: string (nullable = true)\n",
      " |-- race/ethnicity: string (nullable = true)\n",
      " |-- parental level of education: string (nullable = true)\n",
      " |-- lunch: string (nullable = true)\n",
      " |-- test preparation course: string (nullable = true)\n",
      " |-- math score: integer (nullable = true)\n",
      " |-- reading: integer (nullable = true)\n",
      " |-- writing score: integer (nullable = true)\n",
      "\n",
      "+------+--------------+---------------------------+------------+-----------------------+----------+-------+-------------+\n",
      "|gender|race/ethnicity|parental level of education|       lunch|test preparation course|math score|reading|writing score|\n",
      "+------+--------------+---------------------------+------------+-----------------------+----------+-------+-------------+\n",
      "|female|       group B|          bachelor's degree|    standard|                   none|        72|     72|           74|\n",
      "|female|       group C|               some college|    standard|              completed|        69|     90|           88|\n",
      "|female|       group B|            master's degree|    standard|                   none|        90|     95|           93|\n",
      "|  male|       group A|         associate's degree|free/reduced|                   none|        47|     57|           44|\n",
      "|  male|       group C|               some college|    standard|                   none|        76|     78|           75|\n",
      "|female|       group B|         associate's degree|    standard|                   none|        71|     83|           78|\n",
      "|female|       group B|               some college|    standard|              completed|        88|     95|           92|\n",
      "|  male|       group B|               some college|free/reduced|                   none|        40|     43|           39|\n",
      "|  male|       group D|                high school|free/reduced|              completed|        64|     64|           67|\n",
      "|female|       group B|                high school|free/reduced|                   none|        38|     60|           50|\n",
      "|  male|       group C|         associate's degree|    standard|                   none|        58|     54|           52|\n",
      "|  male|       group D|         associate's degree|    standard|                   none|        40|     52|           43|\n",
      "|female|       group B|                high school|    standard|                   none|        65|     81|           73|\n",
      "|  male|       group A|               some college|    standard|              completed|        78|     72|           70|\n",
      "|female|       group A|            master's degree|    standard|                   none|        50|     53|           58|\n",
      "|female|       group C|           some high school|    standard|                   none|        69|     75|           78|\n",
      "|  male|       group C|                high school|    standard|                   none|        88|     89|           86|\n",
      "|female|       group B|           some high school|free/reduced|                   none|        18|     32|           28|\n",
      "|  male|       group C|            master's degree|free/reduced|              completed|        46|     42|           46|\n",
      "|female|       group C|         associate's degree|free/reduced|                   none|        54|     58|           61|\n",
      "+------+--------------+---------------------------+------------+-----------------------+----------+-------+-------------+\n",
      "only showing top 20 rows\n",
      "\n"
     ]
    }
   ],
   "source": [
    "# Read csv again\n",
    "df = spark.read.csv('StudentsPerformance.csv', inferSchema=True, header=True)\n",
    "df.printSchema()\n",
    "\n",
    "df.show()"
   ]
  },
  {
   "cell_type": "code",
   "execution_count": 53,
   "id": "27f33038",
   "metadata": {},
   "outputs": [
    {
     "name": "stdout",
     "output_type": "stream",
     "text": [
      "+------------+\n",
      "|       lunch|\n",
      "+------------+\n",
      "|    standard|\n",
      "|    standard|\n",
      "|    standard|\n",
      "|free/reduced|\n",
      "|    standard|\n",
      "|    standard|\n",
      "|    standard|\n",
      "|free/reduced|\n",
      "|free/reduced|\n",
      "|free/reduced|\n",
      "|    standard|\n",
      "|    standard|\n",
      "|    standard|\n",
      "|    standard|\n",
      "|    standard|\n",
      "|    standard|\n",
      "|    standard|\n",
      "|free/reduced|\n",
      "|free/reduced|\n",
      "|free/reduced|\n",
      "+------------+\n",
      "only showing top 20 rows\n",
      "\n",
      "+------+\n",
      "|gender|\n",
      "+------+\n",
      "|female|\n",
      "|female|\n",
      "|female|\n",
      "|  male|\n",
      "|  male|\n",
      "|female|\n",
      "|female|\n",
      "|  male|\n",
      "|  male|\n",
      "|female|\n",
      "|  male|\n",
      "|  male|\n",
      "|female|\n",
      "|  male|\n",
      "|female|\n",
      "|female|\n",
      "|  male|\n",
      "|female|\n",
      "|  male|\n",
      "|female|\n",
      "+------+\n",
      "only showing top 20 rows\n",
      "\n"
     ]
    }
   ],
   "source": [
    "# We can also select various columns from a DataFrame. \n",
    "df.select('lunch').show()\n",
    "\n",
    "# We could split up these steps, first assigning the output to a variable, then showing that variable. As you see, the output is the same.\n",
    "genderColumn = df.select('gender')\n",
    "\n",
    "genderColumn.show()"
   ]
  },
  {
   "cell_type": "code",
   "execution_count": 54,
   "id": "66d90673",
   "metadata": {
    "scrolled": false
   },
   "outputs": [
    {
     "name": "stdout",
     "output_type": "stream",
     "text": [
      "+------+--------------+---------------------------+------------+-----------------------+----------+-------------+-------------+--------------------+\n",
      "|gender|race/ethnicity|parental level of education|       lunch|test preparation course|math score|reading score|writing score|double_writing_score|\n",
      "+------+--------------+---------------------------+------------+-----------------------+----------+-------------+-------------+--------------------+\n",
      "|female|       group B|          bachelor's degree|    standard|                   none|        72|           72|           74|                 148|\n",
      "|female|       group C|               some college|    standard|              completed|        69|           90|           88|                 176|\n",
      "|female|       group B|            master's degree|    standard|                   none|        90|           95|           93|                 186|\n",
      "|  male|       group A|         associate's degree|free/reduced|                   none|        47|           57|           44|                  88|\n",
      "|  male|       group C|               some college|    standard|                   none|        76|           78|           75|                 150|\n",
      "|female|       group B|         associate's degree|    standard|                   none|        71|           83|           78|                 156|\n",
      "|female|       group B|               some college|    standard|              completed|        88|           95|           92|                 184|\n",
      "|  male|       group B|               some college|free/reduced|                   none|        40|           43|           39|                  78|\n",
      "|  male|       group D|                high school|free/reduced|              completed|        64|           64|           67|                 134|\n",
      "|female|       group B|                high school|free/reduced|                   none|        38|           60|           50|                 100|\n",
      "|  male|       group C|         associate's degree|    standard|                   none|        58|           54|           52|                 104|\n",
      "|  male|       group D|         associate's degree|    standard|                   none|        40|           52|           43|                  86|\n",
      "|female|       group B|                high school|    standard|                   none|        65|           81|           73|                 146|\n",
      "|  male|       group A|               some college|    standard|              completed|        78|           72|           70|                 140|\n",
      "|female|       group A|            master's degree|    standard|                   none|        50|           53|           58|                 116|\n",
      "|female|       group C|           some high school|    standard|                   none|        69|           75|           78|                 156|\n",
      "|  male|       group C|                high school|    standard|                   none|        88|           89|           86|                 172|\n",
      "|female|       group B|           some high school|free/reduced|                   none|        18|           32|           28|                  56|\n",
      "|  male|       group C|            master's degree|free/reduced|              completed|        46|           42|           46|                  92|\n",
      "|female|       group C|         associate's degree|free/reduced|                   none|        54|           58|           61|                 122|\n",
      "+------+--------------+---------------------------+------------+-----------------------+----------+-------------+-------------+--------------------+\n",
      "only showing top 20 rows\n",
      "\n",
      "+------+--------------+---------------------------+------------+-----------------------+----------+-------------+-------------+\n",
      "|gender|race/ethnicity|parental level of education|       lunch|test preparation course|math score|reading score|writing score|\n",
      "+------+--------------+---------------------------+------------+-----------------------+----------+-------------+-------------+\n",
      "|female|       group B|          bachelor's degree|    standard|                   none|        72|           72|           74|\n",
      "|female|       group C|               some college|    standard|              completed|        69|           90|           88|\n",
      "|female|       group B|            master's degree|    standard|                   none|        90|           95|           93|\n",
      "|  male|       group A|         associate's degree|free/reduced|                   none|        47|           57|           44|\n",
      "|  male|       group C|               some college|    standard|                   none|        76|           78|           75|\n",
      "|female|       group B|         associate's degree|    standard|                   none|        71|           83|           78|\n",
      "|female|       group B|               some college|    standard|              completed|        88|           95|           92|\n",
      "|  male|       group B|               some college|free/reduced|                   none|        40|           43|           39|\n",
      "|  male|       group D|                high school|free/reduced|              completed|        64|           64|           67|\n",
      "|female|       group B|                high school|free/reduced|                   none|        38|           60|           50|\n",
      "|  male|       group C|         associate's degree|    standard|                   none|        58|           54|           52|\n",
      "|  male|       group D|         associate's degree|    standard|                   none|        40|           52|           43|\n",
      "|female|       group B|                high school|    standard|                   none|        65|           81|           73|\n",
      "|  male|       group A|               some college|    standard|              completed|        78|           72|           70|\n",
      "|female|       group A|            master's degree|    standard|                   none|        50|           53|           58|\n",
      "|female|       group C|           some high school|    standard|                   none|        69|           75|           78|\n",
      "|  male|       group C|                high school|    standard|                   none|        88|           89|           86|\n",
      "|female|       group B|           some high school|free/reduced|                   none|        18|           32|           28|\n",
      "|  male|       group C|            master's degree|free/reduced|              completed|        46|           42|           46|\n",
      "|female|       group C|         associate's degree|free/reduced|                   none|        54|           58|           61|\n",
      "+------+--------------+---------------------------+------------+-----------------------+----------+-------------+-------------+\n",
      "only showing top 20 rows\n",
      "\n"
     ]
    }
   ],
   "source": [
    "# We can also add columns, manipulating the DataFrame.\n",
    "\n",
    "df.withColumn('double_writing_score',df['writing score']*2).show()\n",
    "\n",
    "# But note that this doesn't alter the original DataFrame. You need to assign the output to a new variable in order to do so.\n",
    "df.show()"
   ]
  },
  {
   "cell_type": "code",
   "execution_count": 84,
   "id": "e8036229",
   "metadata": {},
   "outputs": [
    {
     "name": "stdout",
     "output_type": "stream",
     "text": [
      "+------+--------------+---------------------------+------------+-----------------------+----------+-------------+---------------+\n",
      "|gender|race/ethnicity|parental level of education|       lunch|test preparation course|math score|reading score|ridiculousscore|\n",
      "+------+--------------+---------------------------+------------+-----------------------+----------+-------------+---------------+\n",
      "|female|       group B|          bachelor's degree|    standard|                   none|        72|           72|             74|\n",
      "|female|       group C|               some college|    standard|              completed|        69|           90|             88|\n",
      "|female|       group B|            master's degree|    standard|                   none|        90|           95|             93|\n",
      "|  male|       group A|         associate's degree|free/reduced|                   none|        47|           57|             44|\n",
      "|  male|       group C|               some college|    standard|                   none|        76|           78|             75|\n",
      "|female|       group B|         associate's degree|    standard|                   none|        71|           83|             78|\n",
      "|female|       group B|               some college|    standard|              completed|        88|           95|             92|\n",
      "|  male|       group B|               some college|free/reduced|                   none|        40|           43|             39|\n",
      "|  male|       group D|                high school|free/reduced|              completed|        64|           64|             67|\n",
      "|female|       group B|                high school|free/reduced|                   none|        38|           60|             50|\n",
      "|  male|       group C|         associate's degree|    standard|                   none|        58|           54|             52|\n",
      "|  male|       group D|         associate's degree|    standard|                   none|        40|           52|             43|\n",
      "|female|       group B|                high school|    standard|                   none|        65|           81|             73|\n",
      "|  male|       group A|               some college|    standard|              completed|        78|           72|             70|\n",
      "|female|       group A|            master's degree|    standard|                   none|        50|           53|             58|\n",
      "|female|       group C|           some high school|    standard|                   none|        69|           75|             78|\n",
      "|  male|       group C|                high school|    standard|                   none|        88|           89|             86|\n",
      "|female|       group B|           some high school|free/reduced|                   none|        18|           32|             28|\n",
      "|  male|       group C|            master's degree|free/reduced|              completed|        46|           42|             46|\n",
      "|female|       group C|         associate's degree|free/reduced|                   none|        54|           58|             61|\n",
      "+------+--------------+---------------------------+------------+-----------------------+----------+-------------+---------------+\n",
      "only showing top 20 rows\n",
      "\n"
     ]
    }
   ],
   "source": [
    "# We can rename columns too! \n",
    "df.withColumnRenamed('writing score', 'ridiculousscore').show()"
   ]
  },
  {
   "cell_type": "markdown",
   "id": "6a732e41",
   "metadata": {},
   "source": [
    "# Introducing SQL"
   ]
  },
  {
   "cell_type": "code",
   "execution_count": 98,
   "id": "2ccea03d",
   "metadata": {},
   "outputs": [],
   "source": [
    "df = spark.read.csv('StudentsPerformance.csv', inferSchema=True, header=True)\n",
    "\n",
    "# First, we have to register the DataFrame as a SQL temporary view.\n",
    "df.createOrReplaceTempView('students')\n",
    "\n",
    "# After that, we can use the SQL programming language for queries. \n",
    "results = spark.sql(\"SELECT * FROM students\")\n",
    "#results.show()"
   ]
  },
  {
   "cell_type": "code",
   "execution_count": 101,
   "id": "e9dc1ae4",
   "metadata": {},
   "outputs": [
    {
     "name": "stdout",
     "output_type": "stream",
     "text": [
      "+------------+\n",
      "|       lunch|\n",
      "+------------+\n",
      "|    standard|\n",
      "|    standard|\n",
      "|    standard|\n",
      "|    standard|\n",
      "|    standard|\n",
      "|    standard|\n",
      "|free/reduced|\n",
      "|free/reduced|\n",
      "|    standard|\n",
      "|    standard|\n",
      "|    standard|\n",
      "|    standard|\n",
      "|    standard|\n",
      "|free/reduced|\n",
      "|    standard|\n",
      "|free/reduced|\n",
      "|free/reduced|\n",
      "|    standard|\n",
      "|    standard|\n",
      "|    standard|\n",
      "+------------+\n",
      "only showing top 20 rows\n",
      "\n"
     ]
    }
   ],
   "source": [
    "# Here's another example:\n",
    "result = spark.sql(\"SELECT lunch FROM students WHERE reading >= 60\")\n",
    "result.show()"
   ]
  },
  {
   "cell_type": "markdown",
   "id": "d8384e8f",
   "metadata": {},
   "source": [
    "# Spark DataFrame - Operations"
   ]
  },
  {
   "cell_type": "code",
   "execution_count": 89,
   "id": "767b643c",
   "metadata": {},
   "outputs": [
    {
     "name": "stdout",
     "output_type": "stream",
     "text": [
      "+------+--------------+---------------------------+------------+-----------------------+----------+-------------+-------------+\n",
      "|gender|race/ethnicity|parental level of education|       lunch|test preparation course|math score|reading score|writing score|\n",
      "+------+--------------+---------------------------+------------+-----------------------+----------+-------------+-------------+\n",
      "|female|       group B|          bachelor's degree|    standard|                   none|        72|           72|           74|\n",
      "|female|       group C|               some college|    standard|              completed|        69|           90|           88|\n",
      "|female|       group B|            master's degree|    standard|                   none|        90|           95|           93|\n",
      "|  male|       group A|         associate's degree|free/reduced|                   none|        47|           57|           44|\n",
      "|  male|       group C|               some college|    standard|                   none|        76|           78|           75|\n",
      "|female|       group B|         associate's degree|    standard|                   none|        71|           83|           78|\n",
      "|female|       group B|               some college|    standard|              completed|        88|           95|           92|\n",
      "|  male|       group B|               some college|free/reduced|                   none|        40|           43|           39|\n",
      "|  male|       group D|                high school|free/reduced|              completed|        64|           64|           67|\n",
      "|female|       group B|                high school|free/reduced|                   none|        38|           60|           50|\n",
      "|  male|       group C|         associate's degree|    standard|                   none|        58|           54|           52|\n",
      "|  male|       group D|         associate's degree|    standard|                   none|        40|           52|           43|\n",
      "|female|       group B|                high school|    standard|                   none|        65|           81|           73|\n",
      "|  male|       group A|               some college|    standard|              completed|        78|           72|           70|\n",
      "|female|       group A|            master's degree|    standard|                   none|        50|           53|           58|\n",
      "|female|       group C|           some high school|    standard|                   none|        69|           75|           78|\n",
      "|  male|       group C|                high school|    standard|                   none|        88|           89|           86|\n",
      "|female|       group B|           some high school|free/reduced|                   none|        18|           32|           28|\n",
      "|  male|       group C|            master's degree|free/reduced|              completed|        46|           42|           46|\n",
      "|female|       group C|         associate's degree|free/reduced|                   none|        54|           58|           61|\n",
      "+------+--------------+---------------------------+------------+-----------------------+----------+-------------+-------------+\n",
      "only showing top 20 rows\n",
      "\n"
     ]
    }
   ],
   "source": [
    "df = spark.read.csv('StudentsPerformance.csv', inferSchema=True, header=True)\n",
    "\n",
    "# Let's get a better look at the data.\n",
    "# We know that we can show a DataFrame, but that's resulted in a mess! \n",
    "df.show()"
   ]
  },
  {
   "cell_type": "code",
   "execution_count": 90,
   "id": "1995b674",
   "metadata": {},
   "outputs": [
    {
     "data": {
      "text/plain": [
       "[Row(gender='female', race/ethnicity='group B', parental level of education=\"bachelor's degree\", lunch='standard', test preparation course='none', math score=72, reading score=72, writing score=74)]"
      ]
     },
     "execution_count": 90,
     "metadata": {},
     "output_type": "execute_result"
    }
   ],
   "source": [
    "# Instead, let's just grab the first row. Much neater! \n",
    "df.head(1)"
   ]
  },
  {
   "cell_type": "markdown",
   "id": "d7a55adf",
   "metadata": {},
   "source": [
    "# DataFrame Methods"
   ]
  },
  {
   "cell_type": "code",
   "execution_count": 94,
   "id": "11dfa509",
   "metadata": {},
   "outputs": [
    {
     "name": "stdout",
     "output_type": "stream",
     "text": [
      "+--------------+---------------------------+\n",
      "|race/ethnicity|parental level of education|\n",
      "+--------------+---------------------------+\n",
      "|       group B|               some college|\n",
      "|       group B|           some high school|\n",
      "|       group C|            master's degree|\n",
      "|       group D|               some college|\n",
      "|       group C|               some college|\n",
      "|       group C|                high school|\n",
      "|       group C|           some high school|\n",
      "|       group A|           some high school|\n",
      "|       group D|           some high school|\n",
      "|       group C|           some high school|\n",
      "|       group B|         associate's degree|\n",
      "|       group E|           some high school|\n",
      "|       group B|         associate's degree|\n",
      "|       group B|                high school|\n",
      "|       group A|               some college|\n",
      "|       group D|                high school|\n",
      "|       group C|                high school|\n",
      "|       group C|         associate's degree|\n",
      "|       group B|                high school|\n",
      "|       group A|          bachelor's degree|\n",
      "+--------------+---------------------------+\n",
      "only showing top 20 rows\n",
      "\n"
     ]
    }
   ],
   "source": [
    "df = spark.read.csv('StudentsPerformance.csv', inferSchema=True, header=True)\n",
    "\n",
    "# Even though we know SQL is available, let's try out some of the DataFrame methods.\n",
    "# For this example, let's have a look at the opeening and closing value where close is less than 500.\n",
    "df.filter(\"reading < 50\").select('race/ethnicity','parental level of education').show()"
   ]
  },
  {
   "cell_type": "code",
   "execution_count": 102,
   "id": "ae7da818",
   "metadata": {
    "scrolled": true
   },
   "outputs": [
    {
     "name": "stdout",
     "output_type": "stream",
     "text": [
      "+-----------------------+------------+\n",
      "|test preparation course|       lunch|\n",
      "+-----------------------+------------+\n",
      "|                   none|    standard|\n",
      "|                   none|free/reduced|\n",
      "|                   none|    standard|\n",
      "|                   none|free/reduced|\n",
      "|              completed|free/reduced|\n",
      "|                   none|free/reduced|\n",
      "|                   none|    standard|\n",
      "|                   none|    standard|\n",
      "|              completed|    standard|\n",
      "|                   none|    standard|\n",
      "|                   none|    standard|\n",
      "|                   none|free/reduced|\n",
      "|              completed|free/reduced|\n",
      "|                   none|free/reduced|\n",
      "|                   none|    standard|\n",
      "|              completed|free/reduced|\n",
      "|                   none|    standard|\n",
      "|                   none|    standard|\n",
      "|              completed|free/reduced|\n",
      "|                   none|free/reduced|\n",
      "+-----------------------+------------+\n",
      "only showing top 20 rows\n",
      "\n"
     ]
    }
   ],
   "source": [
    "# We can also use Python within the DataFrame filter method!\n",
    "df.filter(df['reading'] < 80).select('test preparation course','lunch').show()"
   ]
  },
  {
   "cell_type": "code",
   "execution_count": 104,
   "id": "c3ca5e36",
   "metadata": {},
   "outputs": [
    {
     "name": "stdout",
     "output_type": "stream",
     "text": [
      "+-----------------------+------------+\n",
      "|test preparation course|       lunch|\n",
      "+-----------------------+------------+\n",
      "|                   none|    standard|\n",
      "|                   none|free/reduced|\n",
      "|                   none|free/reduced|\n",
      "|              completed|free/reduced|\n",
      "|                   none|free/reduced|\n",
      "|              completed|free/reduced|\n",
      "|                   none|free/reduced|\n",
      "|                   none|    standard|\n",
      "|                   none|free/reduced|\n",
      "|              completed|free/reduced|\n",
      "|                   none|    standard|\n",
      "|              completed|free/reduced|\n",
      "|                   none|free/reduced|\n",
      "|              completed|free/reduced|\n",
      "|                   none|free/reduced|\n",
      "|                   none|    standard|\n",
      "|                   none|    standard|\n",
      "+-----------------------+------------+\n",
      "\n"
     ]
    }
   ],
   "source": [
    "# And we can use multiple operations! \n",
    "# Here we're looking for significant increases in stock.\n",
    "df.filter( (df['reading'] > 60) & (df['math score'] < 49) ).select('test preparation course','lunch').show()"
   ]
  },
  {
   "cell_type": "markdown",
   "id": "4c0bddb9",
   "metadata": {},
   "source": [
    "# Using Collect"
   ]
  },
  {
   "cell_type": "code",
   "execution_count": null,
   "id": "82ddb39b",
   "metadata": {},
   "outputs": [],
   "source": [
    "df = spark.read.csv('StudentsPerformance.csv', inferSchema=True, header=True)"
   ]
  },
  {
   "cell_type": "code",
   "execution_count": 125,
   "id": "99b24464",
   "metadata": {},
   "outputs": [],
   "source": [
    "# Let's pick a row of data with a low of $197.16 and collect it.  \n",
    "studentResult = df.filter(df['reading'] == 17).collect()"
   ]
  },
  {
   "cell_type": "code",
   "execution_count": 126,
   "id": "6548cf81",
   "metadata": {},
   "outputs": [
    {
     "data": {
      "text/plain": [
       "[Row(gender='female', race/ethnicity='group C', parental level of education='some high school', lunch='free/reduced', test preparation course='none', math score=0, reading=17, writing score=10)]"
      ]
     },
     "execution_count": 126,
     "metadata": {},
     "output_type": "execute_result"
    }
   ],
   "source": [
    "# When we collect it, you may notice an interesting format. \n",
    "studentResult"
   ]
  },
  {
   "cell_type": "code",
   "execution_count": 127,
   "id": "49b9eb8c",
   "metadata": {},
   "outputs": [
    {
     "data": {
      "text/plain": [
       "Row(gender='female', race/ethnicity='group C', parental level of education='some high school', lunch='free/reduced', test preparation course='none', math score=0, reading=17, writing score=10)"
      ]
     },
     "execution_count": 127,
     "metadata": {},
     "output_type": "execute_result"
    }
   ],
   "source": [
    "# We can select the first row of data to shed the outer brackets.\n",
    "studentRow = studentResult[0]\n",
    "\n",
    "studentRow"
   ]
  },
  {
   "cell_type": "code",
   "execution_count": 128,
   "id": "9a3197f9",
   "metadata": {},
   "outputs": [
    {
     "data": {
      "text/plain": [
       "{'gender': 'female',\n",
       " 'race/ethnicity': 'group C',\n",
       " 'parental level of education': 'some high school',\n",
       " 'lunch': 'free/reduced',\n",
       " 'test preparation course': 'none',\n",
       " 'math score': 0,\n",
       " 'reading': 17,\n",
       " 'writing score': 10}"
      ]
     },
     "execution_count": 128,
     "metadata": {},
     "output_type": "execute_result"
    }
   ],
   "source": [
    "# And then visualise it simply as a dictionary. \n",
    "studentRow.asDict()"
   ]
  },
  {
   "cell_type": "code",
   "execution_count": 129,
   "id": "45d367e7",
   "metadata": {},
   "outputs": [
    {
     "data": {
      "text/plain": [
       "'female'"
      ]
     },
     "execution_count": 129,
     "metadata": {},
     "output_type": "execute_result"
    }
   ],
   "source": [
    "# Why convert it into a dictionary? Because dictionaries have a lot of methods available.\n",
    "# For example, we can simply call volume from the dictionary. \n",
    "studentRow.asDict()['gender']"
   ]
  },
  {
   "cell_type": "markdown",
   "id": "38aa4522",
   "metadata": {},
   "source": [
    "# Aggregation"
   ]
  },
  {
   "cell_type": "code",
   "execution_count": 17,
   "id": "47fee034",
   "metadata": {},
   "outputs": [],
   "source": [
    "# Let's import the relevant functions.\n",
    "from pyspark.sql.functions import dayofmonth,month,hour,year,format_number\n",
    "\n",
    "df = spark.read.csv('StudentsPerformance.csv', inferSchema=True, header=True)"
   ]
  },
  {
   "cell_type": "code",
   "execution_count": 160,
   "id": "d295fad6",
   "metadata": {},
   "outputs": [
    {
     "name": "stdout",
     "output_type": "stream",
     "text": [
      "+--------------+-----------------+-----------------+------------------+\n",
      "|race/ethnicity|  avg(math score)|     avg(reading)|avg(writing score)|\n",
      "+--------------+-----------------+-----------------+------------------+\n",
      "|       group B|63.45263157894737|67.35263157894737|              65.6|\n",
      "|       group C|64.46394984326018|69.10344827586206| 67.82758620689656|\n",
      "|       group D|67.36259541984732|70.03053435114504| 70.14503816793894|\n",
      "|       group A|61.62921348314607|64.67415730337079|62.674157303370784|\n",
      "|       group E|73.82142857142857|73.02857142857142| 71.40714285714286|\n",
      "+--------------+-----------------+-----------------+------------------+\n",
      "\n"
     ]
    }
   ],
   "source": [
    "# We can also group, and show the averages of each group.\n",
    "df.groupBy('race/ethnicity').mean().show()"
   ]
  },
  {
   "cell_type": "code",
   "execution_count": 174,
   "id": "add4c484",
   "metadata": {},
   "outputs": [
    {
     "name": "stdout",
     "output_type": "stream",
     "text": [
      "+------------+\n",
      "|avg(reading)|\n",
      "+------------+\n",
      "|      69.169|\n",
      "+------------+\n",
      "\n"
     ]
    }
   ],
   "source": [
    "# Instead of grouping, you can use aggregation which represents the entire dataset. \n",
    "df.agg({\"reading\":\"mean\"}).show()"
   ]
  },
  {
   "cell_type": "code",
   "execution_count": 175,
   "id": "7ad2baa5",
   "metadata": {},
   "outputs": [
    {
     "name": "stdout",
     "output_type": "stream",
     "text": [
      "+---------------+\n",
      "|Average reading|\n",
      "+---------------+\n",
      "|         69.169|\n",
      "+---------------+\n",
      "\n"
     ]
    }
   ],
   "source": [
    "# We can also import SQL functions. \n",
    "from pyspark.sql.functions import countDistinct,avg,stddev,format_number\n",
    "df.select(avg('reading').alias('Average reading')).show()"
   ]
  },
  {
   "cell_type": "code",
   "execution_count": 176,
   "id": "e9238e7f",
   "metadata": {},
   "outputs": [
    {
     "name": "stdout",
     "output_type": "stream",
     "text": [
      "+--------------------------+\n",
      "|Reading_Standard_Deviation|\n",
      "+--------------------------+\n",
      "|                     14.60|\n",
      "+--------------------------+\n",
      "\n"
     ]
    }
   ],
   "source": [
    "# We can use SQL to do some basic manipulation.\n",
    "# Here we're getting the standard deviation in sales, formatting it to two decimal places and changing the column name.\n",
    "dev = df.select(stddev(\"reading\"))\n",
    "\n",
    "dev.select(format_number('stddev_samp(reading)',2).alias('Reading_Standard_Deviation')).show()"
   ]
  },
  {
   "cell_type": "code",
   "execution_count": 177,
   "id": "b690bcf5",
   "metadata": {},
   "outputs": [
    {
     "name": "stdout",
     "output_type": "stream",
     "text": [
      "+------+--------------+---------------------------+------------+-----------------------+----------+-------+-------------+\n",
      "|gender|race/ethnicity|parental level of education|       lunch|test preparation course|math score|reading|writing score|\n",
      "+------+--------------+---------------------------+------------+-----------------------+----------+-------+-------------+\n",
      "|female|       group C|           some high school|free/reduced|                   none|         0|     17|           10|\n",
      "|  male|       group A|               some college|free/reduced|                   none|        28|     23|           19|\n",
      "|  male|       group B|                high school|free/reduced|                   none|        30|     24|           15|\n",
      "|female|       group B|                high school|free/reduced|                   none|         8|     24|           23|\n",
      "|  male|       group E|           some high school|    standard|                   none|        30|     26|           22|\n",
      "|  male|       group C|               some college|free/reduced|                   none|        35|     28|           27|\n",
      "|female|       group C|                high school|    standard|                   none|        29|     29|           30|\n",
      "|  male|       group B|                high school|free/reduced|                   none|        36|     29|           27|\n",
      "|female|       group D|         associate's degree|free/reduced|                   none|        26|     31|           38|\n",
      "|  male|       group A|           some high school|    standard|                   none|        51|     31|           36|\n",
      "|female|       group B|           some high school|free/reduced|                   none|        18|     32|           28|\n",
      "|female|       group D|           some high school|free/reduced|                   none|        27|     34|           32|\n",
      "|  male|       group D|                high school|    standard|                   none|        46|     34|           36|\n",
      "|female|       group E|           some high school|free/reduced|                   none|        32|     34|           38|\n",
      "|  male|       group C|                high school|free/reduced|                   none|        27|     34|           36|\n",
      "|  male|       group C|           some high school|free/reduced|              completed|        53|     37|           40|\n",
      "|  male|       group C|         associate's degree|    standard|                   none|        47|     37|           35|\n",
      "|  male|       group D|           some high school|free/reduced|                   none|        45|     37|           37|\n",
      "|female|       group B|           some high school|free/reduced|                   none|        24|     38|           27|\n",
      "|female|       group B|               some college|    standard|                   none|        19|     38|           32|\n",
      "+------+--------------+---------------------------+------------+-----------------------+----------+-------+-------------+\n",
      "only showing top 20 rows\n",
      "\n",
      "+------+--------------+---------------------------+------------+-----------------------+----------+-------+-------------+\n",
      "|gender|race/ethnicity|parental level of education|       lunch|test preparation course|math score|reading|writing score|\n",
      "+------+--------------+---------------------------+------------+-----------------------+----------+-------+-------------+\n",
      "|  male|       group E|         associate's degree|free/reduced|              completed|       100|    100|           93|\n",
      "|female|       group D|            master's degree|    standard|                   none|        87|    100|          100|\n",
      "|  male|       group C|         associate's degree|    standard|              completed|        87|    100|           95|\n",
      "|female|       group E|          bachelor's degree|    standard|                   none|       100|    100|          100|\n",
      "|female|       group A|           some high school|    standard|              completed|        92|    100|           97|\n",
      "|female|       group E|          bachelor's degree|    standard|              completed|        99|    100|          100|\n",
      "|female|       group D|               some college|    standard|                   none|        98|    100|           99|\n",
      "|female|       group E|         associate's degree|    standard|              completed|        93|    100|           95|\n",
      "|female|       group D|          bachelor's degree|free/reduced|              completed|        93|    100|          100|\n",
      "|  male|       group E|          bachelor's degree|    standard|              completed|       100|    100|          100|\n",
      "|female|       group D|            master's degree|    standard|                   none|        92|    100|          100|\n",
      "|female|       group E|         associate's degree|    standard|                   none|       100|    100|          100|\n",
      "|female|       group D|          bachelor's degree|    standard|                   none|        89|    100|          100|\n",
      "|female|       group E|          bachelor's degree|free/reduced|              completed|        92|    100|          100|\n",
      "|female|       group C|          bachelor's degree|    standard|              completed|        96|    100|          100|\n",
      "|female|       group C|          bachelor's degree|    standard|              completed|        92|    100|           99|\n",
      "|female|       group D|           some high school|    standard|              completed|        97|    100|          100|\n",
      "|female|       group D|                high school|    standard|              completed|        88|     99|          100|\n",
      "|female|       group E|            master's degree|    standard|              completed|        94|     99|          100|\n",
      "|female|       group E|            master's degree|    standard|              completed|        88|     99|           95|\n",
      "+------+--------------+---------------------------+------------+-----------------------+----------+-------+-------------+\n",
      "only showing top 20 rows\n",
      "\n"
     ]
    }
   ],
   "source": [
    "# Here's also a simple example of an ascending and descending sort by sales. \n",
    "df.orderBy('reading').show()\n",
    "\n",
    "df.orderBy(df['reading'].desc()).show()"
   ]
  },
  {
   "cell_type": "code",
   "execution_count": 138,
   "id": "449f665b",
   "metadata": {},
   "outputs": [
    {
     "name": "stdout",
     "output_type": "stream",
     "text": [
      "+--------------+-----------------+\n",
      "|race/ethnicity|     avg(reading)|\n",
      "+--------------+-----------------+\n",
      "|       group B|67.35263157894737|\n",
      "|       group C|69.10344827586206|\n",
      "|       group D|70.03053435114504|\n",
      "|       group A|64.67415730337079|\n",
      "|       group E|73.02857142857142|\n",
      "+--------------+-----------------+\n",
      "\n"
     ]
    }
   ],
   "source": [
    "# Now let's sumamrise the data by year, find the mean of each year and select the two columns we'd like to see.\n",
    "df_summary = df.groupBy(\"race/ethnicity\").mean().select(['race/ethnicity','avg(reading)'])\n",
    "df_summary.show()"
   ]
  },
  {
   "cell_type": "code",
   "execution_count": 139,
   "id": "0d73f1fa",
   "metadata": {},
   "outputs": [
    {
     "name": "stdout",
     "output_type": "stream",
     "text": [
      "+--------------+------------------------------+\n",
      "|race/ethnicity|format_number(avg(reading), 2)|\n",
      "+--------------+------------------------------+\n",
      "|       group B|                         67.35|\n",
      "|       group C|                         69.10|\n",
      "|       group D|                         70.03|\n",
      "|       group A|                         64.67|\n",
      "|       group E|                         73.03|\n",
      "+--------------+------------------------------+\n",
      "\n"
     ]
    }
   ],
   "source": [
    "# To make it more visually appealing, let's format the mean to two decimal places.\n",
    "df_formatted = df_summary.select(['race/ethnicity', format_number(\"avg(reading)\",2)])\n",
    "df_formatted.show()"
   ]
  },
  {
   "cell_type": "code",
   "execution_count": 140,
   "id": "0b64ca73",
   "metadata": {},
   "outputs": [
    {
     "name": "stdout",
     "output_type": "stream",
     "text": [
      "+--------------+---------------------+\n",
      "|race/ethnicity|Average Reading Score|\n",
      "+--------------+---------------------+\n",
      "|       group B|                67.35|\n",
      "|       group C|                69.10|\n",
      "|       group D|                70.03|\n",
      "|       group A|                64.67|\n",
      "|       group E|                73.03|\n",
      "+--------------+---------------------+\n",
      "\n"
     ]
    }
   ],
   "source": [
    "# Let's change the name of the column to something that makes sense.\n",
    "df_renamed = df_formatted.withColumnRenamed(\"format_number(avg(reading), 2)\",\"Average Reading Score\")\n",
    "df_renamed.show()"
   ]
  },
  {
   "cell_type": "code",
   "execution_count": 142,
   "id": "5dd7206b",
   "metadata": {},
   "outputs": [
    {
     "name": "stdout",
     "output_type": "stream",
     "text": [
      "+--------------+---------------------+\n",
      "|race/ethnicity|Average Reading Score|\n",
      "+--------------+---------------------+\n",
      "|       group A|                64.67|\n",
      "|       group B|                67.35|\n",
      "|       group C|                69.10|\n",
      "|       group D|                70.03|\n",
      "|       group E|                73.03|\n",
      "+--------------+---------------------+\n",
      "\n"
     ]
    }
   ],
   "source": [
    "# And finally order it by year.\n",
    "df_renamed.orderBy('race/ethnicity').show()"
   ]
  },
  {
   "cell_type": "markdown",
   "id": "d6759fa3",
   "metadata": {},
   "source": [
    "# Spark DataFrame - Data Cleaning"
   ]
  },
  {
   "cell_type": "code",
   "execution_count": 162,
   "id": "7aa09d9a",
   "metadata": {},
   "outputs": [
    {
     "name": "stdout",
     "output_type": "stream",
     "text": [
      "+------+--------------+---------------------------+------------+-----------------------+----------+-------+-------------+\n",
      "|gender|race/ethnicity|parental level of education|       lunch|test preparation course|math score|reading|writing score|\n",
      "+------+--------------+---------------------------+------------+-----------------------+----------+-------+-------------+\n",
      "|  null|       group B|          bachelor's degree|    standard|                   none|      null|     72|           74|\n",
      "|female|       group C|               some college|    standard|              completed|        69|   null|           88|\n",
      "|female|       group B|            master's degree|    standard|                   none|        90|   null|           93|\n",
      "|  male|       group A|         associate's degree|free/reduced|                   none|        47|     57|           44|\n",
      "|  male|       group C|               some college|    standard|                   none|        76|     78|           75|\n",
      "|female|       group B|         associate's degree|    standard|                   none|        71|     83|           78|\n",
      "|female|       group B|               some college|    standard|              completed|        88|     95|           92|\n",
      "|  male|          null|               some college|free/reduced|                   none|        40|     43|           39|\n",
      "|  male|       group D|                       null|free/reduced|              completed|        64|     64|           67|\n",
      "+------+--------------+---------------------------+------------+-----------------------+----------+-------+-------------+\n",
      "\n"
     ]
    }
   ],
   "source": [
    "# Importing data which has a header. Schema is automatically configured.\n",
    "df1 = spark.read.csv('StudentsPerformance-Copy1.csv', header=True, inferSchema=True)\n",
    "\n",
    "# Let's see the data. You'll notice nulls.\n",
    "df1.show()"
   ]
  },
  {
   "cell_type": "code",
   "execution_count": 163,
   "id": "34562196",
   "metadata": {},
   "outputs": [
    {
     "name": "stdout",
     "output_type": "stream",
     "text": [
      "+------+--------------+---------------------------+------------+-----------------------+----------+-------+-------------+\n",
      "|gender|race/ethnicity|parental level of education|       lunch|test preparation course|math score|reading|writing score|\n",
      "+------+--------------+---------------------------+------------+-----------------------+----------+-------+-------------+\n",
      "|  male|       group A|         associate's degree|free/reduced|                   none|        47|     57|           44|\n",
      "|  male|       group C|               some college|    standard|                   none|        76|     78|           75|\n",
      "|female|       group B|         associate's degree|    standard|                   none|        71|     83|           78|\n",
      "|female|       group B|               some college|    standard|              completed|        88|     95|           92|\n",
      "+------+--------------+---------------------------+------------+-----------------------+----------+-------+-------------+\n",
      "\n"
     ]
    }
   ],
   "source": [
    "# Using this syntax, we can drop any row with missing data. Three rows are dropped.\n",
    "df1.na.drop().show()"
   ]
  },
  {
   "cell_type": "code",
   "execution_count": 164,
   "id": "03a8bbec",
   "metadata": {
    "scrolled": true
   },
   "outputs": [
    {
     "name": "stdout",
     "output_type": "stream",
     "text": [
      "+------+--------------+---------------------------+------------+-----------------------+----------+-------+-------------+\n",
      "|gender|race/ethnicity|parental level of education|       lunch|test preparation course|math score|reading|writing score|\n",
      "+------+--------------+---------------------------+------------+-----------------------+----------+-------+-------------+\n",
      "|  null|       group B|          bachelor's degree|    standard|                   none|      null|     72|           74|\n",
      "|  male|       group A|         associate's degree|free/reduced|                   none|        47|     57|           44|\n",
      "|  male|       group C|               some college|    standard|                   none|        76|     78|           75|\n",
      "|female|       group B|         associate's degree|    standard|                   none|        71|     83|           78|\n",
      "|female|       group B|               some college|    standard|              completed|        88|     95|           92|\n",
      "|  male|          null|               some college|free/reduced|                   none|        40|     43|           39|\n",
      "|  male|       group D|                       null|free/reduced|              completed|        64|     64|           67|\n",
      "+------+--------------+---------------------------+------------+-----------------------+----------+-------+-------------+\n",
      "\n"
     ]
    }
   ],
   "source": [
    "# Drops a row if a value from a particular row is missing. Two rows are dropped.\n",
    "df1.na.drop(subset=\"reading\").show()"
   ]
  },
  {
   "cell_type": "code",
   "execution_count": 165,
   "id": "f191de40",
   "metadata": {},
   "outputs": [
    {
     "name": "stdout",
     "output_type": "stream",
     "text": [
      "+----------+--------------+---------------------------+------------+-----------------------+----------+-------+-------------+\n",
      "|    gender|race/ethnicity|parental level of education|       lunch|test preparation course|math score|reading|writing score|\n",
      "+----------+--------------+---------------------------+------------+-----------------------+----------+-------+-------------+\n",
      "|FILL VALUE|       group B|          bachelor's degree|    standard|                   none|      null|     72|           74|\n",
      "|    female|       group C|               some college|    standard|              completed|        69|   null|           88|\n",
      "|    female|       group B|            master's degree|    standard|                   none|        90|   null|           93|\n",
      "|      male|       group A|         associate's degree|free/reduced|                   none|        47|     57|           44|\n",
      "|      male|       group C|               some college|    standard|                   none|        76|     78|           75|\n",
      "|    female|       group B|         associate's degree|    standard|                   none|        71|     83|           78|\n",
      "|    female|       group B|               some college|    standard|              completed|        88|     95|           92|\n",
      "|      male|    FILL VALUE|               some college|free/reduced|                   none|        40|     43|           39|\n",
      "|      male|       group D|                 FILL VALUE|free/reduced|              completed|        64|     64|           67|\n",
      "+----------+--------------+---------------------------+------------+-----------------------+----------+-------+-------------+\n",
      "\n",
      "+------+--------------+---------------------------+------------+-----------------------+----------+-------+-------------+\n",
      "|gender|race/ethnicity|parental level of education|       lunch|test preparation course|math score|reading|writing score|\n",
      "+------+--------------+---------------------------+------------+-----------------------+----------+-------+-------------+\n",
      "|  null|       group B|          bachelor's degree|    standard|                   none|         0|     72|           74|\n",
      "|female|       group C|               some college|    standard|              completed|        69|      0|           88|\n",
      "|female|       group B|            master's degree|    standard|                   none|        90|      0|           93|\n",
      "|  male|       group A|         associate's degree|free/reduced|                   none|        47|     57|           44|\n",
      "|  male|       group C|               some college|    standard|                   none|        76|     78|           75|\n",
      "|female|       group B|         associate's degree|    standard|                   none|        71|     83|           78|\n",
      "|female|       group B|               some college|    standard|              completed|        88|     95|           92|\n",
      "|  male|          null|               some college|free/reduced|                   none|        40|     43|           39|\n",
      "|  male|       group D|                       null|free/reduced|              completed|        64|     64|           67|\n",
      "+------+--------------+---------------------------+------------+-----------------------+----------+-------+-------------+\n",
      "\n",
      "+------+--------------+---------------------------+------------+-----------------------+----------+-------+-------------+\n",
      "|gender|race/ethnicity|parental level of education|       lunch|test preparation course|math score|reading|writing score|\n",
      "+------+--------------+---------------------------+------------+-----------------------+----------+-------+-------------+\n",
      "|  null|       group B|          bachelor's degree|    standard|                   none|      null|     72|           74|\n",
      "|female|       group C|               some college|    standard|              completed|        69|   null|           88|\n",
      "|female|       group B|            master's degree|    standard|                   none|        90|   null|           93|\n",
      "|  male|       group A|         associate's degree|free/reduced|                   none|        47|     57|           44|\n",
      "|  male|       group C|               some college|    standard|                   none|        76|     78|           75|\n",
      "|female|       group B|         associate's degree|    standard|                   none|        71|     83|           78|\n",
      "|female|       group B|               some college|    standard|              completed|        88|     95|           92|\n",
      "|  male|       group X|               some college|free/reduced|                   none|        40|     43|           39|\n",
      "|  male|       group D|                       null|free/reduced|              completed|        64|     64|           67|\n",
      "+------+--------------+---------------------------+------------+-----------------------+----------+-------+-------------+\n",
      "\n"
     ]
    }
   ],
   "source": [
    "# Instead of dropping the row, this fills null string types with FILL VALUE. \n",
    "df1.na.fill(\"FILL VALUE\").show()\n",
    "\n",
    "# Spark will only apply numbers to number data types, and strings to string data types.\n",
    "df1.na.fill(0).show()\n",
    "\n",
    "# However, it's good practice to specify the row you want to fill using subset. \n",
    "df1.na.fill('group X', subset=['race/ethnicity']).show()"
   ]
  },
  {
   "cell_type": "code",
   "execution_count": 170,
   "id": "1ac93e96",
   "metadata": {},
   "outputs": [
    {
     "data": {
      "text/plain": [
       "[Row(avg(reading)=70.28571428571429)]"
      ]
     },
     "execution_count": 170,
     "metadata": {},
     "output_type": "execute_result"
    }
   ],
   "source": [
    "# Also, it's good practice to use your sales average to fill missing data. \n",
    "from pyspark.sql.functions import mean\n",
    "\n",
    "# Let's collect the average. You'll notice that the collection returns the average in an interesting format.\n",
    "mean_reading = df1.select(mean(df1['reading'])).collect()\n",
    "mean_reading"
   ]
  },
  {
   "cell_type": "code",
   "execution_count": 171,
   "id": "7644ba98",
   "metadata": {},
   "outputs": [
    {
     "data": {
      "text/plain": [
       "Row(avg(reading)=70.28571428571429)"
      ]
     },
     "execution_count": 171,
     "metadata": {},
     "output_type": "execute_result"
    }
   ],
   "source": [
    "# If we use the index, we should be able to access the actual value.\n",
    "mean_reading[0]"
   ]
  },
  {
   "cell_type": "code",
   "execution_count": 172,
   "id": "8a7fd9e7",
   "metadata": {},
   "outputs": [],
   "source": [
    "# Looks like we need to go one level deeper. Perfect! Let's assign that value to a variable.\n",
    "mean_reading[0][0]\n",
    "mean_reading_val = mean_reading[0][0]"
   ]
  },
  {
   "cell_type": "code",
   "execution_count": 173,
   "id": "19330e5c",
   "metadata": {},
   "outputs": [
    {
     "name": "stdout",
     "output_type": "stream",
     "text": [
      "+------+--------------+---------------------------+------------+-----------------------+----------+-------+-------------+\n",
      "|gender|race/ethnicity|parental level of education|       lunch|test preparation course|math score|reading|writing score|\n",
      "+------+--------------+---------------------------+------------+-----------------------+----------+-------+-------------+\n",
      "|  null|       group B|          bachelor's degree|    standard|                   none|      null|     72|           74|\n",
      "|female|       group C|               some college|    standard|              completed|        69|     70|           88|\n",
      "|female|       group B|            master's degree|    standard|                   none|        90|     70|           93|\n",
      "|  male|       group A|         associate's degree|free/reduced|                   none|        47|     57|           44|\n",
      "|  male|       group C|               some college|    standard|                   none|        76|     78|           75|\n",
      "|female|       group B|         associate's degree|    standard|                   none|        71|     83|           78|\n",
      "|female|       group B|               some college|    standard|              completed|        88|     95|           92|\n",
      "|  male|          null|               some college|free/reduced|                   none|        40|     43|           39|\n",
      "|  male|       group D|                       null|free/reduced|              completed|        64|     64|           67|\n",
      "+------+--------------+---------------------------+------------+-----------------------+----------+-------+-------------+\n",
      "\n"
     ]
    }
   ],
   "source": [
    "# And finally, fill the missing values with the mean.\n",
    "df1.na.fill(mean_reading_val, subset=['reading']).show()"
   ]
  },
  {
   "cell_type": "code",
   "execution_count": 18,
   "id": "78e3a292",
   "metadata": {
    "scrolled": false
   },
   "outputs": [
    {
     "name": "stderr",
     "output_type": "stream",
     "text": [
      "\r",
      "[Stage 2:>                                                          (0 + 1) / 1]\r"
     ]
    },
    {
     "name": "stdout",
     "output_type": "stream",
     "text": [
      "+------+--------------+---------------------------+------------+-----------------------+----------+-------+-------------+--------------------+\n",
      "|gender|race/ethnicity|parental level of education|       lunch|test preparation course|math score|reading|writing score|ReadingScoreCategory|\n",
      "+------+--------------+---------------------------+------------+-----------------------+----------+-------+-------------+--------------------+\n",
      "|female|       group B|          bachelor's degree|    standard|                   none|        72|     72|           74|              Medium|\n",
      "|female|       group C|               some college|    standard|              completed|        69|     90|           88|                High|\n",
      "|female|       group B|            master's degree|    standard|                   none|        90|     95|           93|                High|\n",
      "|  male|       group A|         associate's degree|free/reduced|                   none|        47|     57|           44|                 Low|\n",
      "|  male|       group C|               some college|    standard|                   none|        76|     78|           75|              Medium|\n",
      "|female|       group B|         associate's degree|    standard|                   none|        71|     83|           78|              Medium|\n",
      "|female|       group B|               some college|    standard|              completed|        88|     95|           92|                High|\n",
      "|  male|       group B|               some college|free/reduced|                   none|        40|     43|           39|                 Low|\n",
      "|  male|       group D|                high school|free/reduced|              completed|        64|     64|           67|                 Low|\n",
      "|female|       group B|                high school|free/reduced|                   none|        38|     60|           50|                 Low|\n",
      "|  male|       group C|         associate's degree|    standard|                   none|        58|     54|           52|                 Low|\n",
      "|  male|       group D|         associate's degree|    standard|                   none|        40|     52|           43|                 Low|\n",
      "|female|       group B|                high school|    standard|                   none|        65|     81|           73|              Medium|\n",
      "|  male|       group A|               some college|    standard|              completed|        78|     72|           70|              Medium|\n",
      "|female|       group A|            master's degree|    standard|                   none|        50|     53|           58|                 Low|\n",
      "|female|       group C|           some high school|    standard|                   none|        69|     75|           78|              Medium|\n",
      "|  male|       group C|                high school|    standard|                   none|        88|     89|           86|              Medium|\n",
      "|female|       group B|           some high school|free/reduced|                   none|        18|     32|           28|                 Low|\n",
      "|  male|       group C|            master's degree|free/reduced|              completed|        46|     42|           46|                 Low|\n",
      "|female|       group C|         associate's degree|free/reduced|                   none|        54|     58|           61|                 Low|\n",
      "+------+--------------+---------------------------+------------+-----------------------+----------+-------+-------------+--------------------+\n",
      "only showing top 20 rows\n",
      "\n"
     ]
    },
    {
     "name": "stderr",
     "output_type": "stream",
     "text": [
      "\r",
      "                                                                                \r"
     ]
    }
   ],
   "source": [
    "from pyspark.sql.functions import udf\n",
    "from pyspark.sql.types import StringType\n",
    "\n",
    "def categorize_reading_score(reading):\n",
    "    if reading >= 90:\n",
    "        return \"High\"\n",
    "    elif reading >= 70:\n",
    "        return \"Medium\"\n",
    "    else:\n",
    "        return \"Low\"\n",
    "\n",
    "categorize_reading_score_udf = udf(categorize_reading_score, StringType())\n",
    "df = df.withColumn(\"ReadingScoreCategory\", categorize_reading_score_udf(df[\"reading\"]))\n",
    "\n",
    "df.show()"
   ]
  },
  {
   "cell_type": "markdown",
   "id": "c8ff89aa",
   "metadata": {},
   "source": [
    "# Linear Regression"
   ]
  },
  {
   "cell_type": "code",
   "execution_count": 13,
   "id": "aa31b409",
   "metadata": {
    "scrolled": false
   },
   "outputs": [
    {
     "name": "stdout",
     "output_type": "stream",
     "text": [
      "root\n",
      " |-- gender: string (nullable = true)\n",
      " |-- race/ethnicity: string (nullable = true)\n",
      " |-- parental level of education: string (nullable = true)\n",
      " |-- lunch: string (nullable = true)\n",
      " |-- test preparation course: string (nullable = true)\n",
      " |-- math score: integer (nullable = true)\n",
      " |-- reading: integer (nullable = true)\n",
      " |-- writing score: integer (nullable = true)\n",
      "\n"
     ]
    }
   ],
   "source": [
    "# If you're getting an error with numpy, please type 'sudo pip install numpy --user' into the EC2 console.\n",
    "from pyspark.ml.regression import LinearRegression\n",
    "\n",
    "data = spark.read.csv('StudentsPerformance.csv', inferSchema=True, header=True)\n",
    "#df.show()\n",
    "\n",
    "# Print the schema of the DataFrame. You can see potential features as well as the predictor.\n",
    "data.printSchema()"
   ]
  },
  {
   "cell_type": "code",
   "execution_count": 14,
   "id": "43f906b3",
   "metadata": {
    "scrolled": false
   },
   "outputs": [
    {
     "data": {
      "text/plain": [
       "Row(gender='female', race/ethnicity='group B', parental level of education=\"bachelor's degree\", lunch='standard', test preparation course='none', math score=72, reading=72, writing score=74)"
      ]
     },
     "execution_count": 14,
     "metadata": {},
     "output_type": "execute_result"
    }
   ],
   "source": [
    "# Let's focus on one row to make it easier to read.\n",
    "data.head()"
   ]
  },
  {
   "cell_type": "code",
   "execution_count": 15,
   "id": "1ab177fe",
   "metadata": {},
   "outputs": [
    {
     "name": "stdout",
     "output_type": "stream",
     "text": [
      "female\n",
      "group B\n",
      "bachelor's degree\n",
      "standard\n",
      "none\n",
      "72\n",
      "72\n",
      "74\n"
     ]
    }
   ],
   "source": [
    "# A simple for loop allows us to make it even clearer. \n",
    "for item in data.head():\n",
    "    print(item)"
   ]
  },
  {
   "cell_type": "markdown",
   "id": "c3278f01",
   "metadata": {},
   "source": [
    "# Log"
   ]
  },
  {
   "cell_type": "code",
   "execution_count": 22,
   "id": "1e8ce999",
   "metadata": {},
   "outputs": [
    {
     "name": "stdout",
     "output_type": "stream",
     "text": [
      "+------------------+\n",
      "|    log_math_score|\n",
      "+------------------+\n",
      "| 4.290459441148391|\n",
      "| 4.248495242049359|\n",
      "|  4.51085950651685|\n",
      "|3.8712010109078907|\n",
      "| 4.343805421853684|\n",
      "| 4.276666119016055|\n",
      "|  4.48863636973214|\n",
      "| 3.713572066704308|\n",
      "| 4.174387269895637|\n",
      "|3.6635616461296463|\n",
      "|  4.07753744390572|\n",
      "| 3.713572066704308|\n",
      "| 4.189654742026425|\n",
      "|4.3694478524670215|\n",
      "|3.9318256327243257|\n",
      "| 4.248495242049359|\n",
      "|  4.48863636973214|\n",
      "|2.9444389791664403|\n",
      "|3.8501476017100584|\n",
      "| 4.007333185232471|\n",
      "+------------------+\n",
      "only showing top 20 rows\n",
      "\n"
     ]
    }
   ],
   "source": [
    "from pyspark.sql.functions import col, log1p\n",
    "\n",
    "df = df.withColumn(\"log_math_score\", log1p(col(\"math score\")))\n",
    "\n",
    "df.select(\"log_math_score\").show()"
   ]
  },
  {
   "cell_type": "code",
   "execution_count": 43,
   "id": "60b62938",
   "metadata": {},
   "outputs": [
    {
     "data": {
      "image/png": "[encoded data removed]",
      "text/plain": [
       "<Figure size 576x432 with 1 Axes>"
      ]
     },
     "metadata": {
      "needs_background": "light"
     },
     "output_type": "display_data"
    }
   ],
   "source": [
    "import seaborn as sns\n",
    "import matplotlib.pyplot as plt\n",
    "from pyspark.sql import SparkSession\n",
    "from pyspark.sql.functions import log\n",
    "\n",
    "spark = SparkSession.builder.appName(\"basics\").getOrCreate()\n",
    "\n",
    "df = spark.read.csv(\"StudentsPerformance.csv\", header=True, inferSchema=True)\n",
    "\n",
    "log_columns = [\"math score\"]\n",
    "for column in log_columns:\n",
    "    df = df.withColumn(f\"log_math_score\", log(col(column)))\n",
    "\n",
    "log_transformed_data = df.select([f\"log_math_score\" for column in log_columns])\n",
    "\n",
    "log_transformed_data_pandas = log_transformed_data.toPandas()\n",
    "\n",
    "for column in log_columns:\n",
    "    plt.figure(figsize=(8, 6))\n",
    "    sns.histplot(log_transformed_data_pandas[f\"log_math_score\"], kde=True)\n",
    "    plt.xlabel(f\"log_math_score\")\n",
    "    plt.title(f\"Log Distribution of math score\")\n",
    "    plt.show()\n",
    "\n"
   ]
  },
  {
   "cell_type": "markdown",
   "id": "4dd5d2d0",
   "metadata": {},
   "source": [
    "# Setting Up a DataFrame for Machine Learning (MLlib)"
   ]
  },
  {
   "cell_type": "code",
   "execution_count": 6,
   "id": "5d1b4f90",
   "metadata": {},
   "outputs": [],
   "source": [
    "# Import VectorAssembler and Vectors\n",
    "from pyspark.ml.linalg import Vectors\n",
    "from pyspark.ml.feature import VectorAssembler"
   ]
  },
  {
   "cell_type": "code",
   "execution_count": 7,
   "id": "264e2bd5",
   "metadata": {},
   "outputs": [],
   "source": [
    "# The input columns are the feature column names, and the output column is what you'd like the new column to be named. \n",
    "assembler = VectorAssembler(\n",
    "    inputCols=[\"math score\", \"reading\", \"writing score\"],\n",
    "    outputCol=\"features\")"
   ]
  },
  {
   "cell_type": "code",
   "execution_count": 8,
   "id": "81f5ca04",
   "metadata": {},
   "outputs": [],
   "source": [
    "# Now that we've created the assembler variable, let's actually transform the data.\n",
    "output = assembler.transform(data)"
   ]
  },
  {
   "cell_type": "code",
   "execution_count": 9,
   "id": "af7936f2",
   "metadata": {},
   "outputs": [
    {
     "name": "stdout",
     "output_type": "stream",
     "text": [
      "root\n",
      " |-- gender: string (nullable = true)\n",
      " |-- race/ethnicity: string (nullable = true)\n",
      " |-- parental level of education: string (nullable = true)\n",
      " |-- lunch: string (nullable = true)\n",
      " |-- test preparation course: string (nullable = true)\n",
      " |-- math score: integer (nullable = true)\n",
      " |-- reading: integer (nullable = true)\n",
      " |-- writing score: integer (nullable = true)\n",
      " |-- features: vector (nullable = true)\n",
      "\n"
     ]
    },
    {
     "data": {
      "text/plain": [
       "[Row(gender='female', race/ethnicity='group B', parental level of education=\"bachelor's degree\", lunch='standard', test preparation course='none', math score=72, reading=72, writing score=74, features=DenseVector([72.0, 72.0, 74.0]))]"
      ]
     },
     "execution_count": 9,
     "metadata": {},
     "output_type": "execute_result"
    }
   ],
   "source": [
    "# Using print schema, you see that the features output column has been added. \n",
    "output.printSchema()\n",
    "\n",
    "# You can see that the features column is a dense vector that combines the various features as expected.\n",
    "output.head(1)"
   ]
  },
  {
   "cell_type": "code",
   "execution_count": 10,
   "id": "7ffec844",
   "metadata": {},
   "outputs": [
    {
     "name": "stdout",
     "output_type": "stream",
     "text": [
      "+------+--------------+---------------------------+------------+-----------------------+----------+-------+-------------+\n",
      "|gender|race/ethnicity|parental level of education|       lunch|test preparation course|math score|reading|writing score|\n",
      "+------+--------------+---------------------------+------------+-----------------------+----------+-------+-------------+\n",
      "|female|       group B|          bachelor's degree|    standard|                   none|        72|     72|           74|\n",
      "|female|       group C|               some college|    standard|              completed|        69|     90|           88|\n",
      "|female|       group B|            master's degree|    standard|                   none|        90|     95|           93|\n",
      "|  male|       group A|         associate's degree|free/reduced|                   none|        47|     57|           44|\n",
      "|  male|       group C|               some college|    standard|                   none|        76|     78|           75|\n",
      "|female|       group B|         associate's degree|    standard|                   none|        71|     83|           78|\n",
      "|female|       group B|               some college|    standard|              completed|        88|     95|           92|\n",
      "|  male|       group B|               some college|free/reduced|                   none|        40|     43|           39|\n",
      "|  male|       group D|                high school|free/reduced|              completed|        64|     64|           67|\n",
      "|female|       group B|                high school|free/reduced|                   none|        38|     60|           50|\n",
      "|  male|       group C|         associate's degree|    standard|                   none|        58|     54|           52|\n",
      "|  male|       group D|         associate's degree|    standard|                   none|        40|     52|           43|\n",
      "|female|       group B|                high school|    standard|                   none|        65|     81|           73|\n",
      "|  male|       group A|               some college|    standard|              completed|        78|     72|           70|\n",
      "|female|       group A|            master's degree|    standard|                   none|        50|     53|           58|\n",
      "|female|       group C|           some high school|    standard|                   none|        69|     75|           78|\n",
      "|  male|       group C|                high school|    standard|                   none|        88|     89|           86|\n",
      "|female|       group B|           some high school|free/reduced|                   none|        18|     32|           28|\n",
      "|  male|       group C|            master's degree|free/reduced|              completed|        46|     42|           46|\n",
      "|female|       group C|         associate's degree|free/reduced|                   none|        54|     58|           61|\n",
      "+------+--------------+---------------------------+------------+-----------------------+----------+-------+-------------+\n",
      "only showing top 20 rows\n",
      "\n"
     ]
    }
   ],
   "source": [
    "df.show()"
   ]
  },
  {
   "cell_type": "code",
   "execution_count": 11,
   "id": "7ac7dcdc",
   "metadata": {},
   "outputs": [
    {
     "name": "stdout",
     "output_type": "stream",
     "text": [
      "+----------------+----------+\n",
      "|        features|math score|\n",
      "+----------------+----------+\n",
      "|[72.0,72.0,74.0]|        72|\n",
      "|[69.0,90.0,88.0]|        69|\n",
      "|[90.0,95.0,93.0]|        90|\n",
      "|[47.0,57.0,44.0]|        47|\n",
      "|[76.0,78.0,75.0]|        76|\n",
      "|[71.0,83.0,78.0]|        71|\n",
      "|[88.0,95.0,92.0]|        88|\n",
      "|[40.0,43.0,39.0]|        40|\n",
      "|[64.0,64.0,67.0]|        64|\n",
      "|[38.0,60.0,50.0]|        38|\n",
      "|[58.0,54.0,52.0]|        58|\n",
      "|[40.0,52.0,43.0]|        40|\n",
      "|[65.0,81.0,73.0]|        65|\n",
      "|[78.0,72.0,70.0]|        78|\n",
      "|[50.0,53.0,58.0]|        50|\n",
      "|[69.0,75.0,78.0]|        69|\n",
      "|[88.0,89.0,86.0]|        88|\n",
      "|[18.0,32.0,28.0]|        18|\n",
      "|[46.0,42.0,46.0]|        46|\n",
      "|[54.0,58.0,61.0]|        54|\n",
      "+----------------+----------+\n",
      "only showing top 20 rows\n",
      "\n"
     ]
    }
   ],
   "source": [
    "# Let's select two columns (the feature and predictor).\n",
    "# This is now in the appropriate format to be processed by Spark.\n",
    "final_data = output.select(\"features\",'math score')\n",
    "final_data.show()"
   ]
  },
  {
   "cell_type": "code",
   "execution_count": 104,
   "id": "91713c96",
   "metadata": {},
   "outputs": [],
   "source": [
    "# Let's do a randomised 70/30 split. \n",
    "# Remember, you can use other splits depending on how easy/difficult it is to train your model.\n",
    "train_data,test_data = final_data.randomSplit([0.7,0.3])"
   ]
  },
  {
   "cell_type": "code",
   "execution_count": 105,
   "id": "abbc5fb3",
   "metadata": {},
   "outputs": [
    {
     "name": "stdout",
     "output_type": "stream",
     "text": [
      "+-------+------------------+\n",
      "|summary|        math score|\n",
      "+-------+------------------+\n",
      "|  count|               715|\n",
      "|   mean| 65.84335664335664|\n",
      "| stddev|15.268395065521096|\n",
      "|    min|                 0|\n",
      "|    max|               100|\n",
      "+-------+------------------+\n",
      "\n",
      "+-------+------------------+\n",
      "|summary|        math score|\n",
      "+-------+------------------+\n",
      "|  count|               285|\n",
      "|   mean| 66.70526315789473|\n",
      "| stddev|14.904300601738512|\n",
      "|    min|                23|\n",
      "|    max|               100|\n",
      "+-------+------------------+\n",
      "\n"
     ]
    }
   ],
   "source": [
    "# Let's see our training data.\n",
    "train_data.describe().show()\n",
    "\n",
    "# And our testing data.\n",
    "test_data.describe().show()"
   ]
  },
  {
   "cell_type": "code",
   "execution_count": 106,
   "id": "803c0efb",
   "metadata": {},
   "outputs": [],
   "source": [
    "lr = LinearRegression(labelCol='math score')"
   ]
  },
  {
   "cell_type": "code",
   "execution_count": 107,
   "id": "45b8988d",
   "metadata": {},
   "outputs": [
    {
     "name": "stderr",
     "output_type": "stream",
     "text": [
      "23/10/18 13:00:30 WARN Instrumentation: [e676cc7d] regParam is zero, which might cause numerical instability and overfitting.\n"
     ]
    }
   ],
   "source": [
    "# Fit the model to the data.\n",
    "lrModel = lr.fit(train_data)"
   ]
  },
  {
   "cell_type": "code",
   "execution_count": 108,
   "id": "dba6701d",
   "metadata": {},
   "outputs": [
    {
     "name": "stdout",
     "output_type": "stream",
     "text": [
      "Coefficients: [0.999999999999989,4.108349271539673e-15,4.472818148134447e-15] Intercept: 1.343303554016571e-13\n"
     ]
    }
   ],
   "source": [
    "# Print the coefficients and intercept for linear regression.\n",
    "print(\"Coefficients: {} Intercept: {}\".format(lrModel.coefficients,lrModel.intercept))"
   ]
  },
  {
   "cell_type": "code",
   "execution_count": 109,
   "id": "b9deafd6",
   "metadata": {},
   "outputs": [],
   "source": [
    "# Let's evaluate the model against the test data.\n",
    "test_results = lrModel.evaluate(test_data)"
   ]
  },
  {
   "cell_type": "code",
   "execution_count": 112,
   "id": "59bab5da",
   "metadata": {},
   "outputs": [
    {
     "name": "stdout",
     "output_type": "stream",
     "text": [
      "+--------------------+\n",
      "|           residuals|\n",
      "+--------------------+\n",
      "|-2.23820961764431...|\n",
      "|-1.74082970261224...|\n",
      "|-1.91846538655227...|\n",
      "|-1.35003119794419...|\n",
      "|-1.42108547152020...|\n",
      "|-1.77635683940025...|\n",
      "|-2.48689957516035...|\n",
      "|-1.27897692436818...|\n",
      "|-8.52651282912120...|\n",
      "|-1.84741111297626...|\n",
      "|-2.13162820728030...|\n",
      "|-2.27373675443232...|\n",
      "|-1.63424829224823...|\n",
      "|-2.48689957516035...|\n",
      "|-4.97379915032070...|\n",
      "|-1.84741111297626...|\n",
      "|-1.13686837721616...|\n",
      "|-1.06581410364015...|\n",
      "|4.973799150320701...|\n",
      "|-1.63424829224823...|\n",
      "+--------------------+\n",
      "only showing top 20 rows\n",
      "\n",
      "RSME: 1.0068536906426966e-13\n"
     ]
    }
   ],
   "source": [
    "# Interesting results! This shows the difference between the predicted value and the test data.\n",
    "test_results.residuals.show()\n",
    "\n",
    "# Let's get some evaluation metrics (as discussed in the previous linear regression notebook).\n",
    "print(\"RSME: {}\".format(test_results.rootMeanSquaredError))"
   ]
  },
  {
   "cell_type": "code",
   "execution_count": 113,
   "id": "869a93af",
   "metadata": {},
   "outputs": [
    {
     "name": "stdout",
     "output_type": "stream",
     "text": [
      "R2: 1.0\n"
     ]
    }
   ],
   "source": [
    "# We can also get the R2 value. \n",
    "print(\"R2: {}\".format(test_results.r2))\n",
    "#The R2 also shows that the model accounts for 100% of the variance in the data."
   ]
  },
  {
   "cell_type": "code",
   "execution_count": 114,
   "id": "e412badb",
   "metadata": {},
   "outputs": [
    {
     "name": "stdout",
     "output_type": "stream",
     "text": [
      "+-------+------------------+\n",
      "|summary|        math score|\n",
      "+-------+------------------+\n",
      "|  count|              1000|\n",
      "|   mean|            66.089|\n",
      "| stddev|15.163080096009454|\n",
      "|    min|                 0|\n",
      "|    max|               100|\n",
      "+-------+------------------+\n",
      "\n"
     ]
    }
   ],
   "source": [
    "final_data.describe().show()"
   ]
  },
  {
   "cell_type": "markdown",
   "id": "a41c401a",
   "metadata": {},
   "source": [
    "# Visualize "
   ]
  },
  {
   "cell_type": "code",
   "execution_count": 117,
   "id": "dd64dbab",
   "metadata": {},
   "outputs": [
    {
     "name": "stderr",
     "output_type": "stream",
     "text": [
      "/home/ubuntu/spark-3.2.1-bin-hadoop2.7/python/pyspark/sql/context.py:125: FutureWarning: Deprecated in 3.0.0. Use SparkSession.builder.getOrCreate() instead.\n",
      "  warnings.warn(\n"
     ]
    },
    {
     "data": {
      "image/png": "[encoded data removed]",
      "text/plain": [
       "<Figure size 432x288 with 1 Axes>"
      ]
     },
     "metadata": {
      "needs_background": "light"
     },
     "output_type": "display_data"
    }
   ],
   "source": [
    "import matplotlib.pyplot as plt\n",
    "\n",
    "residuals = test_results.residuals.toPandas()\n",
    "\n",
    "plt.scatter(range(residuals.shape[0]), residuals)\n",
    "plt.xlabel(\"Sample\")\n",
    "plt.ylabel(\"Residual\")\n",
    "plt.title(\"Residuals Distribution\")\n",
    "plt.show()"
   ]
  },
  {
   "cell_type": "markdown",
   "id": "f1a3173a",
   "metadata": {},
   "source": [
    "# Iterations"
   ]
  },
  {
   "cell_type": "code",
   "execution_count": 21,
   "id": "d3520050",
   "metadata": {},
   "outputs": [
    {
     "name": "stdout",
     "output_type": "stream",
     "text": [
      "+-------+------------------+\n",
      "|summary|        math score|\n",
      "+-------+------------------+\n",
      "|  count|              1000|\n",
      "|   mean|            66.089|\n",
      "| stddev|15.163080096009454|\n",
      "|    min|                 0|\n",
      "|    max|               100|\n",
      "+-------+------------------+\n",
      "\n"
     ]
    }
   ],
   "source": [
    "final_data.describe().show()"
   ]
  },
  {
   "cell_type": "code",
   "execution_count": 22,
   "id": "7583fccb",
   "metadata": {
    "scrolled": true
   },
   "outputs": [
    {
     "name": "stdout",
     "output_type": "stream",
     "text": [
      "+-------+------------------+\n",
      "|summary|        math score|\n",
      "+-------+------------------+\n",
      "|  count|               685|\n",
      "|   mean| 66.50656934306569|\n",
      "| stddev|15.015256395309898|\n",
      "|    min|                 8|\n",
      "|    max|               100|\n",
      "+-------+------------------+\n",
      "\n",
      "+-------+------------------+\n",
      "|summary|        math score|\n",
      "+-------+------------------+\n",
      "|  count|               315|\n",
      "|   mean| 65.18095238095238|\n",
      "| stddev|15.464844631364638|\n",
      "|    min|                 0|\n",
      "|    max|               100|\n",
      "+-------+------------------+\n",
      "\n"
     ]
    },
    {
     "name": "stderr",
     "output_type": "stream",
     "text": [
      "23/10/18 13:32:24 WARN Instrumentation: [f4a081cc] regParam is zero, which might cause numerical instability and overfitting.\n"
     ]
    }
   ],
   "source": [
    "train_data,test_data = final_data.randomSplit([0.7,0.3])\n",
    "train_data.describe().show()\n",
    "test_data.describe().show()\n",
    "lr = LinearRegression(labelCol='math score')\n",
    "lrModel = lr.fit(train_data)\n",
    "test_results = lrModel.evaluate(test_data)"
   ]
  },
  {
   "cell_type": "code",
   "execution_count": 23,
   "id": "a673667e",
   "metadata": {},
   "outputs": [
    {
     "name": "stdout",
     "output_type": "stream",
     "text": [
      "+-------+------------------+\n",
      "|summary|        math score|\n",
      "+-------+------------------+\n",
      "|  count|               599|\n",
      "|   mean| 66.14190317195326|\n",
      "| stddev|15.619693117801251|\n",
      "|    min|                 0|\n",
      "|    max|               100|\n",
      "+-------+------------------+\n",
      "\n",
      "+-------+------------------+\n",
      "|summary|        math score|\n",
      "+-------+------------------+\n",
      "|  count|               401|\n",
      "|   mean| 66.00997506234414|\n",
      "| stddev|14.473075010148237|\n",
      "|    min|                23|\n",
      "|    max|               100|\n",
      "+-------+------------------+\n",
      "\n"
     ]
    },
    {
     "name": "stderr",
     "output_type": "stream",
     "text": [
      "23/10/18 13:32:25 WARN Instrumentation: [e16e964c] regParam is zero, which might cause numerical instability and overfitting.\n"
     ]
    }
   ],
   "source": [
    "train_data,test_data = final_data.randomSplit([0.6,0.4])\n",
    "train_data.describe().show()\n",
    "test_data.describe().show()\n",
    "lr = LinearRegression(labelCol='math score')\n",
    "lrModel = lr.fit(train_data)\n",
    "test_results = lrModel.evaluate(test_data)"
   ]
  },
  {
   "cell_type": "code",
   "execution_count": 24,
   "id": "6b7b3482",
   "metadata": {},
   "outputs": [
    {
     "name": "stdout",
     "output_type": "stream",
     "text": [
      "+-------+------------------+\n",
      "|summary|        math score|\n",
      "+-------+------------------+\n",
      "|  count|               788|\n",
      "|   mean| 65.80076142131979|\n",
      "| stddev|15.500203693507144|\n",
      "|    min|                 0|\n",
      "|    max|               100|\n",
      "+-------+------------------+\n",
      "\n",
      "+-------+------------------+\n",
      "|summary|        math score|\n",
      "+-------+------------------+\n",
      "|  count|               212|\n",
      "|   mean| 67.16037735849056|\n",
      "| stddev|13.819854384629961|\n",
      "|    min|                23|\n",
      "|    max|               100|\n",
      "+-------+------------------+\n",
      "\n"
     ]
    },
    {
     "name": "stderr",
     "output_type": "stream",
     "text": [
      "23/10/18 13:32:27 WARN Instrumentation: [07e1f488] regParam is zero, which might cause numerical instability and overfitting.\n"
     ]
    }
   ],
   "source": [
    "train_data,test_data = final_data.randomSplit([0.8,0.2])\n",
    "train_data.describe().show()\n",
    "test_data.describe().show()\n",
    "lr = LinearRegression(labelCol='math score')\n",
    "lrModel = lr.fit(train_data)\n",
    "test_results = lrModel.evaluate(test_data)"
   ]
  },
  {
   "cell_type": "code",
   "execution_count": null,
   "id": "8dbb15f2",
   "metadata": {},
   "outputs": [],
   "source": []
  }
 ],
 "metadata": {
  "kernelspec": {
   "display_name": "Python 3 (ipykernel)",
   "language": "python",
   "name": "python3"
  },
  "language_info": {
   "codemirror_mode": {
    "name": "ipython",
    "version": 3
   },
   "file_extension": ".py",
   "mimetype": "text/x-python",
   "name": "python",
   "nbconvert_exporter": "python",
   "pygments_lexer": "ipython3",
   "version": "3.10.4"
  }
 },
 "nbformat": 4,
 "nbformat_minor": 5
}
